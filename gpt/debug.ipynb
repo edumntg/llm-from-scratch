{
 "cells": [
  {
   "cell_type": "markdown",
   "metadata": {},
   "source": [
    "## This notebook is used to Debug functionalities"
   ]
  },
  {
   "cell_type": "code",
   "execution_count": 8,
   "metadata": {},
   "outputs": [],
   "source": [
    "import torch\n",
    "import torch.nn as nn\n",
    "import tiktoken\n",
    "from model import *\n",
    "from dataset import *\n",
    "from torch.utils.data import DataLoader"
   ]
  },
  {
   "cell_type": "code",
   "execution_count": 9,
   "metadata": {},
   "outputs": [
    {
     "name": "stdout",
     "output_type": "stream",
     "text": [
      "Vocab size: 50257\n"
     ]
    }
   ],
   "source": [
    "# Get gpt-2 tokenizer\n",
    "tokenizer = tiktoken.get_encoding(\"gpt2\")\n",
    "vocab_size = tokenizer.n_vocab\n",
    "print(\"Vocab size:\", vocab_size)"
   ]
  },
  {
   "cell_type": "markdown",
   "metadata": {},
   "source": [
    "## Read data from a test file"
   ]
  },
  {
   "cell_type": "code",
   "execution_count": 10,
   "metadata": {},
   "outputs": [
    {
     "name": "stdout",
     "output_type": "stream",
     "text": [
      "20479 characters\n"
     ]
    }
   ],
   "source": [
    "with open(\"../data/the-verdict.txt\", \"r\") as file:\n",
    "    raw_text = file.read()\n",
    "\n",
    "print(len(raw_text), \"characters\")"
   ]
  },
  {
   "cell_type": "markdown",
   "metadata": {},
   "source": [
    "## Create Dataset object"
   ]
  },
  {
   "cell_type": "code",
   "execution_count": 11,
   "metadata": {},
   "outputs": [
    {
     "name": "stdout",
     "output_type": "stream",
     "text": [
      "Inputs shape: torch.Size([126])\n",
      "Labels shape: torch.Size([126])\n"
     ]
    }
   ],
   "source": [
    "dataset = GPTDataset(raw_text, tokenizer, 126, 1) # input phrases of 126 tokens\n",
    "\n",
    "inputs, labels = dataset[0]\n",
    "print(\"Inputs shape:\", inputs.shape)\n",
    "print(\"Labels shape:\", labels.shape)"
   ]
  },
  {
   "cell_type": "markdown",
   "metadata": {},
   "source": [
    "## Create DataLoader"
   ]
  },
  {
   "cell_type": "code",
   "execution_count": 12,
   "metadata": {},
   "outputs": [
    {
     "name": "stdout",
     "output_type": "stream",
     "text": [
      "Input batch shape: torch.Size([32, 126])\n",
      "Labels batch shape: torch.Size([32, 126])\n"
     ]
    }
   ],
   "source": [
    "dataloader = DataLoader(\n",
    "    dataset = dataset,\n",
    "    batch_size = 32,\n",
    "    shuffle = True\n",
    ")\n",
    "\n",
    "dataiter = iter(dataloader)\n",
    "inputs_batch, labels_batch = next(dataiter)\n",
    "\n",
    "print(\"Input batch shape:\", inputs_batch.shape)\n",
    "print(\"Labels batch shape:\", labels_batch.shape)"
   ]
  },
  {
   "cell_type": "code",
   "execution_count": 13,
   "metadata": {},
   "outputs": [],
   "source": [
    "args = ModelArgs(\n",
    "    emb_dim = 256,\n",
    "    num_heads = 2,\n",
    "    context_length=256,\n",
    "    vocab_size=vocab_size,\n",
    "    num_blocks = 2\n",
    ")"
   ]
  },
  {
   "cell_type": "markdown",
   "metadata": {},
   "source": [
    "## Test attention model"
   ]
  },
  {
   "cell_type": "code",
   "execution_count": 7,
   "metadata": {},
   "outputs": [
    {
     "name": "stdout",
     "output_type": "stream",
     "text": [
      "Context vector shape: torch.Size([32, 126, 768])\n"
     ]
    }
   ],
   "source": [
    "# apply embedding\n",
    "emb_dim = 768\n",
    "embedding = nn.Embedding(vocab_size, emb_dim)\n",
    "vectors = embedding(inputs_batch)\n",
    "\n",
    "attention = MultiHeadAttention(args)\n",
    "z = attention(vectors)\n",
    "print(\"Context vector shape:\", z.shape)"
   ]
  },
  {
   "cell_type": "markdown",
   "metadata": {},
   "source": [
    "## Test FF block"
   ]
  },
  {
   "cell_type": "code",
   "execution_count": 8,
   "metadata": {},
   "outputs": [
    {
     "name": "stdout",
     "output_type": "stream",
     "text": [
      "torch.Size([32, 126, 768])\n"
     ]
    }
   ],
   "source": [
    "ff = FeedForward(args)\n",
    "out = ff(z)\n",
    "print(out.shape)"
   ]
  },
  {
   "cell_type": "markdown",
   "metadata": {},
   "source": [
    "## Test LayerNorm"
   ]
  },
  {
   "cell_type": "code",
   "execution_count": 9,
   "metadata": {},
   "outputs": [
    {
     "name": "stdout",
     "output_type": "stream",
     "text": [
      "torch.Size([32, 126, 768])\n"
     ]
    }
   ],
   "source": [
    "norm = LayerNorm(args)\n",
    "out = norm(out)\n",
    "print(out.shape)"
   ]
  },
  {
   "cell_type": "markdown",
   "metadata": {},
   "source": [
    "## Test Transformer block"
   ]
  },
  {
   "cell_type": "code",
   "execution_count": 10,
   "metadata": {},
   "outputs": [
    {
     "name": "stdout",
     "output_type": "stream",
     "text": [
      "torch.Size([32, 126, 768])\n"
     ]
    }
   ],
   "source": [
    "transformer = TransformerBlock(args)\n",
    "out = transformer(vectors)\n",
    "print(out.shape)"
   ]
  },
  {
   "cell_type": "markdown",
   "metadata": {},
   "source": [
    "## Number of parameters of a Transformer Block"
   ]
  },
  {
   "cell_type": "code",
   "execution_count": 11,
   "metadata": {},
   "outputs": [
    {
     "name": "stdout",
     "output_type": "stream",
     "text": [
      "7085568\n"
     ]
    }
   ],
   "source": [
    "print(sum([p.numel() for p in transformer.parameters() if p.requires_grad]))"
   ]
  },
  {
   "cell_type": "markdown",
   "metadata": {},
   "source": [
    "## Test GPT Block"
   ]
  },
  {
   "cell_type": "code",
   "execution_count": 12,
   "metadata": {},
   "outputs": [
    {
     "name": "stdout",
     "output_type": "stream",
     "text": [
      "torch.Size([32, 126, 50257])\n"
     ]
    }
   ],
   "source": [
    "model = GPTModel(args)\n",
    "out = model(inputs_batch)\n",
    "print(out.shape)"
   ]
  },
  {
   "cell_type": "markdown",
   "metadata": {},
   "source": [
    "## Number of parameters in GPT Model"
   ]
  },
  {
   "cell_type": "code",
   "execution_count": 13,
   "metadata": {},
   "outputs": [
    {
     "name": "stdout",
     "output_type": "stream",
     "text": [
      "53556480\n"
     ]
    }
   ],
   "source": [
    "# We subtract the number of parameters in the final (output) layer\n",
    "print(sum([p.numel() for p in model.parameters() if p.requires_grad]) - sum([p.numel() for p in model.output.parameters()]))"
   ]
  },
  {
   "cell_type": "markdown",
   "metadata": {},
   "source": [
    "## Generate text"
   ]
  },
  {
   "cell_type": "code",
   "execution_count": 14,
   "metadata": {},
   "outputs": [
    {
     "name": "stdout",
     "output_type": "stream",
     "text": [
      "Of course FANTASY IncreasingAppData taxutonium NAACP momentum NAACP Increasing Fey\n"
     ]
    }
   ],
   "source": [
    "input = \"Of course\"\n",
    "ids = torch.tensor(tokenizer.encode(input)).unsqueeze(0)\n",
    "num_tokens = 10\n",
    "\n",
    "for i in range(num_tokens):\n",
    "    with torch.no_grad():\n",
    "        logits = model(ids)\n",
    "    \n",
    "    # Get last vector\n",
    "    logits = logits[:,-1,:]\n",
    "    # APply softmax\n",
    "    probs = torch.softmax(logits, dim=-1)\n",
    "    # Get token with higher prob\n",
    "    idx_next = torch.argmax(probs, dim=-1, keepdim=True)\n",
    "    ids = torch.cat((ids, idx_next), dim=1)\n",
    "\n",
    "# Finally, decode and join into a new string\n",
    "tokens = tokenizer.decode(ids.squeeze(dim=0).tolist())\n",
    "print(tokens)"
   ]
  },
  {
   "cell_type": "markdown",
   "metadata": {},
   "source": [
    "## Test train loop"
   ]
  },
  {
   "cell_type": "code",
   "execution_count": 14,
   "metadata": {},
   "outputs": [
    {
     "name": "stdout",
     "output_type": "stream",
     "text": [
      "Epoch: 1, loss: 7.221414383809278\n",
      "Epoch: 2, loss: 0.0\n",
      "Epoch: 3, loss: 0.0\n"
     ]
    }
   ],
   "source": [
    "torch.manual_seed(123)\n",
    "model = GPTModel(args)\n",
    "optimizer = torch.optim.Adam(model.parameters(), lr = 1e-4)\n",
    "criterion = torch.nn.CrossEntropyLoss()\n",
    "dataiter = iter(dataloader) # Reset iterator\n",
    "\n",
    "EPOCHS = 3\n",
    "\n",
    "for epoch in range(EPOCHS):\n",
    "    model.train()\n",
    "    epoch_loss = 0.0\n",
    "    epoch_accuracy = 0.0\n",
    "\n",
    "    for batch_idx, (inputs, labels) in enumerate(dataiter):\n",
    "        # Reset gradients\n",
    "        optimizer.zero_grad()\n",
    "\n",
    "        # Predict logits\n",
    "        logits = model(inputs)\n",
    "\n",
    "        # Compute loss\n",
    "        loss = criterion(logits.flatten(0,1), labels.flatten())\n",
    "\n",
    "        # Backward pass\n",
    "        loss.backward()\n",
    "\n",
    "        # Update params\n",
    "        optimizer.step()\n",
    "\n",
    "        epoch_loss += loss.item()\n",
    "    \n",
    "    epoch_loss /= len(dataiter)\n",
    "    print(f\"Epoch: {epoch+1}, loss: {epoch_loss}\")"
   ]
  },
  {
   "cell_type": "code",
   "execution_count": null,
   "metadata": {},
   "outputs": [
    {
     "ename": "",
     "evalue": "",
     "output_type": "error",
     "traceback": [
      "\u001b[1;31mFailed to start the Kernel. \n",
      "\u001b[1;31mUnable to start Kernel 'Python 3.11.0' due to a connection timeout. \n",
      "\u001b[1;31mView Jupyter <a href='command:jupyter.viewOutput'>log</a> for further details."
     ]
    }
   ],
   "source": []
  }
 ],
 "metadata": {
  "kernelspec": {
   "display_name": "Python 3",
   "language": "python",
   "name": "python3"
  },
  "language_info": {
   "codemirror_mode": {
    "name": "ipython",
    "version": 3
   },
   "file_extension": ".py",
   "mimetype": "text/x-python",
   "name": "python",
   "nbconvert_exporter": "python",
   "pygments_lexer": "ipython3",
   "version": "3.11.0"
  }
 },
 "nbformat": 4,
 "nbformat_minor": 2
}
