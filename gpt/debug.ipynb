{
 "cells": [
  {
   "cell_type": "markdown",
   "metadata": {},
   "source": [
    "## This notebook is used to Debug functionalities"
   ]
  },
  {
   "cell_type": "code",
   "execution_count": 1,
   "metadata": {},
   "outputs": [],
   "source": [
    "import torch\n",
    "import torch.nn as nn\n",
    "import tiktoken\n",
    "from model import *\n",
    "from dataset import *\n",
    "from torch.utils.data import DataLoader"
   ]
  },
  {
   "cell_type": "code",
   "execution_count": 2,
   "metadata": {},
   "outputs": [
    {
     "name": "stdout",
     "output_type": "stream",
     "text": [
      "Vocab size: 50257\n"
     ]
    }
   ],
   "source": [
    "# Get gpt-2 tokenizer\n",
    "tokenizer = tiktoken.get_encoding(\"gpt2\")\n",
    "vocab_size = tokenizer.n_vocab\n",
    "print(\"Vocab size:\", vocab_size)"
   ]
  },
  {
   "cell_type": "markdown",
   "metadata": {},
   "source": [
    "## Read data from a test file"
   ]
  },
  {
   "cell_type": "code",
   "execution_count": 3,
   "metadata": {},
   "outputs": [
    {
     "name": "stdout",
     "output_type": "stream",
     "text": [
      "20479 characters\n"
     ]
    }
   ],
   "source": [
    "with open(\"../data/the-verdict.txt\", \"r\") as file:\n",
    "    raw_text = file.read()\n",
    "\n",
    "print(len(raw_text), \"characters\")"
   ]
  },
  {
   "cell_type": "markdown",
   "metadata": {},
   "source": [
    "## Create Dataset object"
   ]
  },
  {
   "cell_type": "code",
   "execution_count": 4,
   "metadata": {},
   "outputs": [
    {
     "name": "stdout",
     "output_type": "stream",
     "text": [
      "Inputs shape: torch.Size([126])\n",
      "Labels shape: torch.Size([126])\n"
     ]
    }
   ],
   "source": [
    "dataset = GPTDataset(raw_text, tokenizer, 126, 1) # input phrases of 126 tokens\n",
    "\n",
    "inputs, labels = dataset[0]\n",
    "print(\"Inputs shape:\", inputs.shape)\n",
    "print(\"Labels shape:\", labels.shape)"
   ]
  },
  {
   "cell_type": "markdown",
   "metadata": {},
   "source": [
    "## Create DataLoader"
   ]
  },
  {
   "cell_type": "code",
   "execution_count": 5,
   "metadata": {},
   "outputs": [
    {
     "name": "stdout",
     "output_type": "stream",
     "text": [
      "Input batch shape: torch.Size([32, 126])\n",
      "Labels batch shape: torch.Size([32, 126])\n"
     ]
    }
   ],
   "source": [
    "dataloader = DataLoader(\n",
    "    dataset = dataset,\n",
    "    batch_size = 32,\n",
    "    shuffle = True\n",
    ")\n",
    "\n",
    "dataiter = iter(dataloader)\n",
    "inputs_batch, labels_batch = next(dataiter)\n",
    "\n",
    "print(\"Input batch shape:\", inputs_batch.shape)\n",
    "print(\"Labels batch shape:\", labels_batch.shape)"
   ]
  },
  {
   "cell_type": "code",
   "execution_count": 6,
   "metadata": {},
   "outputs": [],
   "source": [
    "args = ModelArgs(\n",
    "    emb_dim = 768,\n",
    "    num_heads = 12,\n",
    "    context_length=1024,\n",
    "    vocab_size=vocab_size,\n",
    "    num_blocks = 12\n",
    ")"
   ]
  },
  {
   "cell_type": "markdown",
   "metadata": {},
   "source": [
    "## Test attention model"
   ]
  },
  {
   "cell_type": "code",
   "execution_count": 7,
   "metadata": {},
   "outputs": [
    {
     "name": "stdout",
     "output_type": "stream",
     "text": [
      "Context vector shape: torch.Size([32, 126, 768])\n"
     ]
    }
   ],
   "source": [
    "# apply embedding\n",
    "emb_dim = 768\n",
    "embedding = nn.Embedding(vocab_size, emb_dim)\n",
    "vectors = embedding(inputs_batch)\n",
    "\n",
    "attention = MultiHeadAttention(args)\n",
    "z = attention(vectors)\n",
    "print(\"Context vector shape:\", z.shape)"
   ]
  },
  {
   "cell_type": "markdown",
   "metadata": {},
   "source": [
    "## Test FF block"
   ]
  },
  {
   "cell_type": "code",
   "execution_count": 8,
   "metadata": {},
   "outputs": [
    {
     "name": "stdout",
     "output_type": "stream",
     "text": [
      "torch.Size([32, 126, 768])\n"
     ]
    }
   ],
   "source": [
    "ff = FeedForward(args)\n",
    "out = ff(z)\n",
    "print(out.shape)"
   ]
  },
  {
   "cell_type": "markdown",
   "metadata": {},
   "source": [
    "## Test LayerNorm"
   ]
  },
  {
   "cell_type": "code",
   "execution_count": 9,
   "metadata": {},
   "outputs": [
    {
     "name": "stdout",
     "output_type": "stream",
     "text": [
      "torch.Size([32, 126, 768])\n"
     ]
    }
   ],
   "source": [
    "norm = LayerNorm(args)\n",
    "out = norm(out)\n",
    "print(out.shape)"
   ]
  },
  {
   "cell_type": "markdown",
   "metadata": {},
   "source": [
    "## Test Transformer block"
   ]
  },
  {
   "cell_type": "code",
   "execution_count": 10,
   "metadata": {},
   "outputs": [
    {
     "name": "stdout",
     "output_type": "stream",
     "text": [
      "torch.Size([32, 126, 768])\n"
     ]
    }
   ],
   "source": [
    "transformer = TransformerBlock(args)\n",
    "out = transformer(vectors)\n",
    "print(out.shape)"
   ]
  },
  {
   "cell_type": "markdown",
   "metadata": {},
   "source": [
    "## Number of parameters of a Transformer Block"
   ]
  },
  {
   "cell_type": "code",
   "execution_count": 11,
   "metadata": {},
   "outputs": [
    {
     "name": "stdout",
     "output_type": "stream",
     "text": [
      "7085568\n"
     ]
    }
   ],
   "source": [
    "print(sum([p.numel() for p in transformer.parameters() if p.requires_grad]))"
   ]
  },
  {
   "cell_type": "markdown",
   "metadata": {},
   "source": [
    "## Test GPT Block"
   ]
  },
  {
   "cell_type": "code",
   "execution_count": 12,
   "metadata": {},
   "outputs": [
    {
     "name": "stdout",
     "output_type": "stream",
     "text": [
      "torch.Size([32, 126, 50257])\n"
     ]
    }
   ],
   "source": [
    "model = GPTModel(args)\n",
    "out = model(inputs_batch)\n",
    "print(out.shape)"
   ]
  },
  {
   "cell_type": "markdown",
   "metadata": {},
   "source": [
    "## Number of parameters in GPT Model"
   ]
  },
  {
   "cell_type": "code",
   "execution_count": 13,
   "metadata": {},
   "outputs": [
    {
     "name": "stdout",
     "output_type": "stream",
     "text": [
      "124412160\n"
     ]
    }
   ],
   "source": [
    "# We subtract the number of parameters in the final (output) layer\n",
    "print(sum([p.numel() for p in model.parameters() if p.requires_grad]) - sum([p.numel() for p in model.output.parameters()]))"
   ]
  },
  {
   "cell_type": "code",
   "execution_count": 14,
   "metadata": {},
   "outputs": [
    {
     "data": {
      "text/plain": [
       "tensor([[[-1.1667e-01, -8.2985e-01, -5.8249e-01,  ...,  6.0607e-01,\n",
       "           6.8824e-01,  1.6421e+00],\n",
       "         [-5.0194e-01, -5.9211e-01, -1.8949e-01,  ..., -4.1374e-01,\n",
       "          -3.8185e-01,  1.2588e+00],\n",
       "         [ 6.7507e-01, -1.0917e+00, -8.8019e-02,  ...,  6.8964e-02,\n",
       "           3.9118e-01,  9.0287e-01],\n",
       "         ...,\n",
       "         [ 6.1311e-01, -8.3764e-01,  1.0579e+00,  ...,  3.6020e-01,\n",
       "          -4.7086e-01,  1.6606e+00],\n",
       "         [ 1.2487e+00,  2.0049e-01,  4.1201e-01,  ..., -2.7011e-01,\n",
       "          -2.1878e-01,  7.4676e-01],\n",
       "         [ 2.7146e-01, -4.1402e-01,  4.7407e-01,  ..., -3.9146e-02,\n",
       "          -1.1699e-01,  6.5736e-01]],\n",
       "\n",
       "        [[-3.5757e-02,  4.6312e-01,  2.6027e-01,  ...,  8.6704e-01,\n",
       "           3.5686e-01,  8.9648e-01],\n",
       "         [ 1.7573e-01, -1.4281e+00,  4.5357e-01,  ...,  3.3828e-01,\n",
       "           3.8132e-02,  8.9718e-01],\n",
       "         [ 5.5927e-01, -8.9882e-01,  2.7039e-02,  ..., -2.2215e-01,\n",
       "          -3.1467e-01,  3.0857e-01],\n",
       "         ...,\n",
       "         [-4.2699e-01, -4.3322e-01,  5.8122e-01,  ...,  4.9174e-02,\n",
       "           3.1162e-03,  1.6035e+00],\n",
       "         [ 1.1188e+00, -4.8840e-01,  9.9831e-01,  ..., -6.4559e-01,\n",
       "          -5.4598e-01,  8.5284e-01],\n",
       "         [-3.2177e-01, -3.9928e-01,  2.3689e-01,  ...,  2.7355e-02,\n",
       "          -3.6932e-02,  7.0259e-01]],\n",
       "\n",
       "        [[-9.5112e-02, -6.1882e-03, -3.5550e-02,  ...,  9.1016e-01,\n",
       "           1.8335e-01,  1.1946e+00],\n",
       "         [-1.5828e-01, -1.0436e+00,  4.6544e-03,  ...,  1.9455e-01,\n",
       "          -2.7160e-01,  9.5748e-01],\n",
       "         [ 9.5374e-02, -8.5351e-01, -1.2474e-01,  ...,  8.5381e-02,\n",
       "          -1.8827e-01,  9.8547e-03],\n",
       "         ...,\n",
       "         [ 7.6290e-01, -6.1862e-01,  1.3215e-01,  ...,  2.9782e-01,\n",
       "          -1.1818e+00,  1.3604e+00],\n",
       "         [ 1.3796e+00, -8.5469e-03,  6.9258e-01,  ..., -9.1179e-01,\n",
       "          -8.5854e-02,  4.2793e-01],\n",
       "         [ 2.8924e-01, -6.1722e-01, -7.3042e-01,  ...,  5.4233e-01,\n",
       "           1.2642e-01, -4.5506e-01]],\n",
       "\n",
       "        ...,\n",
       "\n",
       "        [[-2.2071e-01, -5.3680e-01, -1.0533e+00,  ...,  1.3646e+00,\n",
       "          -2.9819e-01,  1.4666e+00],\n",
       "         [ 9.6373e-02, -7.9847e-01, -3.4831e-01,  ...,  3.3925e-01,\n",
       "          -2.3689e-01,  7.3993e-01],\n",
       "         [ 1.3243e-01, -1.0862e-01, -1.9258e-01,  ...,  5.5403e-01,\n",
       "           1.7118e-01,  3.6542e-01],\n",
       "         ...,\n",
       "         [ 6.3434e-01, -6.7809e-01,  1.8341e-01,  ...,  1.7660e-01,\n",
       "          -1.4834e+00,  7.8039e-01],\n",
       "         [-4.2856e-02, -7.6829e-02,  1.7865e-01,  ..., -4.8641e-01,\n",
       "          -7.3458e-01, -4.3685e-02],\n",
       "         [ 6.0307e-01, -8.6561e-01,  1.3085e-01,  ...,  2.4911e-01,\n",
       "           2.0963e-02,  5.1871e-01]],\n",
       "\n",
       "        [[ 2.5281e-01, -4.4223e-01,  3.6665e-01,  ...,  3.5132e-01,\n",
       "           5.7879e-01,  1.1472e+00],\n",
       "         [-2.4685e-01, -6.9847e-01,  1.7732e-01,  ..., -5.0974e-02,\n",
       "          -3.0949e-01,  6.5121e-01],\n",
       "         [-1.7589e-01, -4.8647e-01, -2.2320e-01,  ..., -4.6706e-01,\n",
       "          -4.3586e-01,  7.8879e-01],\n",
       "         ...,\n",
       "         [-2.7137e-01, -3.2683e-01,  9.6186e-01,  ...,  2.1198e-01,\n",
       "           1.4093e-03,  2.2164e+00],\n",
       "         [ 2.1682e-01, -6.9313e-01, -1.2033e-01,  ..., -9.1988e-01,\n",
       "          -7.2192e-01,  2.1979e-01],\n",
       "         [ 3.7684e-01, -6.5496e-01,  6.8664e-01,  ...,  5.9402e-01,\n",
       "          -1.0207e-01,  6.9977e-01]],\n",
       "\n",
       "        [[ 1.3219e-01, -5.9815e-01, -5.6948e-01,  ...,  1.0225e+00,\n",
       "           1.2054e-01,  1.0245e+00],\n",
       "         [ 2.5228e-01, -5.4792e-02,  1.1944e+00,  ...,  6.4363e-01,\n",
       "           3.4286e-01,  7.3593e-01],\n",
       "         [ 1.9329e-01, -9.6001e-01, -2.5566e-01,  ..., -1.1797e-01,\n",
       "           3.1937e-02,  1.2107e+00],\n",
       "         ...,\n",
       "         [-2.3604e-01, -7.5949e-01, -1.1261e-01,  ...,  2.2666e-01,\n",
       "          -4.0510e-01,  1.2622e+00],\n",
       "         [ 1.9118e-01, -1.3386e-01,  3.2380e-01,  ..., -4.1579e-01,\n",
       "          -2.4159e-01,  8.8948e-02],\n",
       "         [ 9.9302e-01, -6.0057e-01,  3.9575e-01,  ...,  1.0083e+00,\n",
       "           7.8707e-02,  2.2309e-01]]], grad_fn=<ViewBackward0>)"
      ]
     },
     "execution_count": 14,
     "metadata": {},
     "output_type": "execute_result"
    }
   ],
   "source": [
    "model(inputs_batch)"
   ]
  }
 ],
 "metadata": {
  "kernelspec": {
   "display_name": "Python 3",
   "language": "python",
   "name": "python3"
  },
  "language_info": {
   "codemirror_mode": {
    "name": "ipython",
    "version": 3
   },
   "file_extension": ".py",
   "mimetype": "text/x-python",
   "name": "python",
   "nbconvert_exporter": "python",
   "pygments_lexer": "ipython3",
   "version": "3.11.0"
  }
 },
 "nbformat": 4,
 "nbformat_minor": 2
}
