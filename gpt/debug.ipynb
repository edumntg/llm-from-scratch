{
 "cells": [
  {
   "cell_type": "markdown",
   "metadata": {},
   "source": [
    "## This notebook is used to Debug functionalities"
   ]
  },
  {
   "cell_type": "code",
   "execution_count": 1,
   "metadata": {},
   "outputs": [],
   "source": [
    "import torch\n",
    "import torch.nn as nn\n",
    "import tiktoken\n",
    "from model import *\n",
    "from dataset import *\n",
    "from torch.utils.data import DataLoader"
   ]
  },
  {
   "cell_type": "code",
   "execution_count": 2,
   "metadata": {},
   "outputs": [
    {
     "name": "stdout",
     "output_type": "stream",
     "text": [
      "Vocab size: 50257\n"
     ]
    }
   ],
   "source": [
    "# Get gpt-2 tokenizer\n",
    "tokenizer = tiktoken.get_encoding(\"gpt2\")\n",
    "vocab_size = tokenizer.n_vocab\n",
    "print(\"Vocab size:\", vocab_size)"
   ]
  },
  {
   "cell_type": "markdown",
   "metadata": {},
   "source": [
    "## Read data from a test file"
   ]
  },
  {
   "cell_type": "code",
   "execution_count": 3,
   "metadata": {},
   "outputs": [
    {
     "name": "stdout",
     "output_type": "stream",
     "text": [
      "20479 characters\n"
     ]
    }
   ],
   "source": [
    "with open(\"../data/the-verdict.txt\", \"r\") as file:\n",
    "    raw_text = file.read()\n",
    "\n",
    "print(len(raw_text), \"characters\")"
   ]
  },
  {
   "cell_type": "markdown",
   "metadata": {},
   "source": [
    "## Create Dataset object"
   ]
  },
  {
   "cell_type": "code",
   "execution_count": 4,
   "metadata": {},
   "outputs": [
    {
     "name": "stdout",
     "output_type": "stream",
     "text": [
      "Inputs shape: torch.Size([126])\n",
      "Labels shape: torch.Size([126])\n"
     ]
    }
   ],
   "source": [
    "dataset = GPTDataset(raw_text, tokenizer, 126, 1) # input phrases of 126 tokens\n",
    "\n",
    "inputs, labels = dataset[0]\n",
    "print(\"Inputs shape:\", inputs.shape)\n",
    "print(\"Labels shape:\", labels.shape)"
   ]
  },
  {
   "cell_type": "markdown",
   "metadata": {},
   "source": [
    "## Create DataLoader"
   ]
  },
  {
   "cell_type": "code",
   "execution_count": 5,
   "metadata": {},
   "outputs": [
    {
     "name": "stdout",
     "output_type": "stream",
     "text": [
      "Input batch shape: torch.Size([32, 126])\n",
      "Labels batch shape: torch.Size([32, 126])\n"
     ]
    }
   ],
   "source": [
    "dataloader = DataLoader(\n",
    "    dataset = dataset,\n",
    "    batch_size = 32,\n",
    "    shuffle = True\n",
    ")\n",
    "\n",
    "dataiter = iter(dataloader)\n",
    "inputs_batch, labels_batch = next(dataiter)\n",
    "\n",
    "print(\"Input batch shape:\", inputs_batch.shape)\n",
    "print(\"Labels batch shape:\", labels_batch.shape)"
   ]
  },
  {
   "cell_type": "code",
   "execution_count": 6,
   "metadata": {},
   "outputs": [
    {
     "data": {
      "text/plain": [
       "torch.Size([32, 126, 768])"
      ]
     },
     "execution_count": 6,
     "metadata": {},
     "output_type": "execute_result"
    }
   ],
   "source": [
    "emb_dim = 768\n",
    "emb = nn.Embedding(vocab_size, emb_dim)\n",
    "vector = emb(inputs_batch)\n",
    "vector.shape"
   ]
  },
  {
   "cell_type": "code",
   "execution_count": 7,
   "metadata": {},
   "outputs": [],
   "source": [
    "args = ModelArgs(\n",
    "    emb_dim = 768,\n",
    "    num_heads = 2,\n",
    "    context_length=126\n",
    ")"
   ]
  },
  {
   "cell_type": "code",
   "execution_count": 8,
   "metadata": {},
   "outputs": [
    {
     "name": "stdout",
     "output_type": "stream",
     "text": [
      "torch.Size([32, 2, 126, 126])\n"
     ]
    },
    {
     "data": {
      "text/plain": [
       "tensor([[[ 4.2722e-02, -2.8851e-01,  2.9485e-01,  ..., -2.3117e-01,\n",
       "           6.9260e-02, -6.1598e-02],\n",
       "         [ 1.2487e-01, -4.5144e-01, -6.5690e-03,  ..., -2.4244e-01,\n",
       "           6.6749e-02,  4.6221e-02],\n",
       "         [ 2.3317e-01, -4.0140e-01,  6.4555e-02,  ..., -8.5278e-02,\n",
       "          -1.4484e-01, -4.9935e-02],\n",
       "         ...,\n",
       "         [ 5.3691e-03, -2.9656e-02,  2.7759e-02,  ..., -1.0381e-02,\n",
       "          -4.4288e-02, -8.7973e-02],\n",
       "         [ 3.6611e-02, -4.6819e-02,  2.6386e-02,  ..., -3.0780e-02,\n",
       "          -6.0035e-02, -4.1340e-02],\n",
       "         [ 4.5664e-02, -1.5850e-02,  8.4789e-03,  ..., -2.5191e-02,\n",
       "          -6.1355e-02, -7.1134e-02]],\n",
       "\n",
       "        [[ 5.7726e-01, -1.4309e-01, -2.5202e-01,  ..., -3.8832e-01,\n",
       "          -1.4586e-01, -1.4087e-01],\n",
       "         [ 4.0782e-01,  2.0625e-02, -3.4876e-01,  ..., -4.9718e-01,\n",
       "           5.5107e-02, -2.7463e-02],\n",
       "         [ 4.3375e-01, -1.1046e-01, -5.7712e-02,  ..., -2.3475e-02,\n",
       "          -3.2688e-02, -1.8665e-01],\n",
       "         ...,\n",
       "         [ 4.4627e-03, -9.6528e-03, -6.8030e-03,  ..., -7.1486e-02,\n",
       "           5.7376e-02, -6.9543e-02],\n",
       "         [-2.4488e-02,  2.3382e-03,  1.1088e-02,  ..., -5.5619e-02,\n",
       "           5.9565e-02, -8.7311e-02],\n",
       "         [-2.8672e-02, -4.1734e-02,  1.2622e-02,  ..., -8.7991e-02,\n",
       "           3.8005e-02, -1.2856e-01]],\n",
       "\n",
       "        [[-6.7302e-02, -3.1326e-01, -3.6486e-01,  ...,  1.4639e-01,\n",
       "           5.0214e-01, -2.2226e-01],\n",
       "         [-2.6073e-01, -7.4873e-02, -1.4764e-01,  ...,  2.6960e-01,\n",
       "           1.9319e-01, -4.3884e-02],\n",
       "         [-4.0378e-01, -5.4957e-02, -2.3227e-01,  ...,  7.8840e-03,\n",
       "           2.7667e-01,  5.9484e-02],\n",
       "         ...,\n",
       "         [-5.7276e-02, -2.0632e-02,  2.9981e-03,  ...,  3.3173e-02,\n",
       "          -2.2477e-02, -7.2503e-02],\n",
       "         [-9.5778e-03, -1.8350e-02, -3.5759e-03,  ...,  1.5383e-02,\n",
       "          -8.1687e-03, -4.5108e-02],\n",
       "         [-2.3117e-02,  3.9560e-02, -1.0425e-02,  ...,  1.9638e-02,\n",
       "           1.4563e-02, -4.4288e-02]],\n",
       "\n",
       "        ...,\n",
       "\n",
       "        [[ 3.2267e-02, -3.5634e-01, -6.2822e-02,  ...,  4.7132e-01,\n",
       "          -8.7891e-02,  1.0850e-01],\n",
       "         [ 3.2543e-01, -2.6391e-01,  2.5397e-01,  ...,  3.5945e-02,\n",
       "          -2.6295e-01,  1.5000e-01],\n",
       "         [ 8.2664e-02, -1.3917e-01, -2.3313e-01,  ..., -1.5059e-02,\n",
       "          -6.6301e-02, -2.6806e-02],\n",
       "         ...,\n",
       "         [ 6.8073e-02,  6.2846e-02, -4.6195e-03,  ...,  6.3085e-03,\n",
       "           5.6971e-03, -2.4402e-02],\n",
       "         [ 2.7162e-02,  4.8041e-02, -3.1048e-02,  ...,  1.1650e-02,\n",
       "           5.3075e-02, -1.0178e-02],\n",
       "         [ 4.4549e-02,  4.5595e-02, -4.1770e-02,  ..., -1.7501e-02,\n",
       "           4.2252e-02, -1.6527e-02]],\n",
       "\n",
       "        [[-1.2618e-01,  2.0075e-01,  6.2433e-01,  ..., -2.5712e-01,\n",
       "          -6.5974e-01, -9.1963e-01],\n",
       "         [ 6.3992e-04,  1.3976e-01,  2.8513e-01,  ...,  2.3708e-01,\n",
       "          -3.4291e-01, -3.6235e-01],\n",
       "         [-4.9630e-02, -1.3180e-02,  2.6575e-01,  ...,  2.8533e-01,\n",
       "          -7.2283e-02, -2.7222e-01],\n",
       "         ...,\n",
       "         [-5.1044e-02,  9.4630e-03, -1.0841e-03,  ..., -8.2003e-04,\n",
       "           1.4889e-03, -3.0476e-02],\n",
       "         [-3.6670e-03,  3.8055e-03, -1.6626e-02,  ...,  1.6767e-04,\n",
       "          -7.7443e-03, -4.2893e-02],\n",
       "         [-2.5929e-02,  2.7826e-02,  9.6009e-03,  ...,  2.6548e-02,\n",
       "          -1.3843e-03, -1.6469e-02]],\n",
       "\n",
       "        [[-1.9304e-01, -5.0883e-01,  3.9991e-01,  ..., -5.9609e-01,\n",
       "           8.6640e-04,  4.7493e-01],\n",
       "         [-2.5026e-01, -1.0987e-01, -4.6410e-02,  ...,  2.5627e-02,\n",
       "           2.7008e-01,  1.3929e-01],\n",
       "         [-2.1903e-01, -2.4402e-01, -1.7648e-01,  ..., -1.7113e-01,\n",
       "           1.8037e-01,  3.0515e-01],\n",
       "         ...,\n",
       "         [ 4.8270e-02, -1.8336e-02,  8.0825e-03,  ..., -1.7040e-02,\n",
       "          -3.5392e-02, -7.7192e-02],\n",
       "         [ 4.8907e-02, -8.9672e-04,  1.5914e-02,  ..., -1.4154e-02,\n",
       "          -4.8665e-02, -9.9474e-02],\n",
       "         [ 3.2099e-02, -3.7863e-03,  1.3032e-02,  ..., -5.2155e-02,\n",
       "          -2.4087e-02, -9.4143e-02]]], grad_fn=<ViewBackward0>)"
      ]
     },
     "execution_count": 8,
     "metadata": {},
     "output_type": "execute_result"
    }
   ],
   "source": [
    "attention = MultiHeadAttention(args)\n",
    "z=attention(vector)\n",
    "print(\"Context vector shape:\", z.shape)"
   ]
  },
  {
   "cell_type": "code",
   "execution_count": null,
   "metadata": {},
   "outputs": [],
   "source": []
  }
 ],
 "metadata": {
  "kernelspec": {
   "display_name": "Python 3",
   "language": "python",
   "name": "python3"
  },
  "language_info": {
   "codemirror_mode": {
    "name": "ipython",
    "version": 3
   },
   "file_extension": ".py",
   "mimetype": "text/x-python",
   "name": "python",
   "nbconvert_exporter": "python",
   "pygments_lexer": "ipython3",
   "version": "3.11.0"
  }
 },
 "nbformat": 4,
 "nbformat_minor": 2
}
